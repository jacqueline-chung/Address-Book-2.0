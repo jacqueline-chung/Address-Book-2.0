{
  "nbformat": 4,
  "nbformat_minor": 0,
  "metadata": {
    "colab": {
      "name": "ITM 760 Assignment 2.ipynb",
      "provenance": [],
      "collapsed_sections": [],
      "authorship_tag": "ABX9TyOd1LGKH6GhwaiAOyDl+Qw7",
      "include_colab_link": true
    },
    "kernelspec": {
      "name": "python3",
      "display_name": "Python 3"
    }
  },
  "cells": [
    {
      "cell_type": "markdown",
      "metadata": {
        "id": "view-in-github",
        "colab_type": "text"
      },
      "source": [
        "<a href=\"https://colab.research.google.com/github/jacqueline-chung/Address-Book-2.0/blob/master/ITM_760_Assignment_2.ipynb\" target=\"_parent\"><img src=\"https://colab.research.google.com/assets/colab-badge.svg\" alt=\"Open In Colab\"/></a>"
      ]
    },
    {
      "cell_type": "code",
      "metadata": {
        "id": "4P_5gUYlrtJc",
        "colab_type": "code",
        "colab": {}
      },
      "source": [
        "# You need to import the following libraries to use page rank\n",
        "# Create an empty graph\n",
        "# Our first example graph:\n",
        "# Our first example of a graph will be an empty graph\n",
        "# The following little Python script uses NetworkX to\n",
        "#  create an empty graph:\n",
        "import matplotlib.pyplot as plt\n",
        "import networkx as nx\n",
        "import numpy as np\n",
        "G_Altgeld = nx.DiGraph()\n",
        "G_Altgeld2 = nx.DiGraph()"
      ],
      "execution_count": 0,
      "outputs": []
    },
    {
      "cell_type": "code",
      "metadata": {
        "id": "kmFmz5zvseqL",
        "colab_type": "code",
        "colab": {}
      },
      "source": [
        "# Let's assume that we would like to find the most important\n",
        "#  location. Each node will be a location in the company and\n",
        "#  edges represent how these locations are connected in the\n",
        "#  company building\n",
        "# Adding Nodes to our Graph:\n",
        "# Now we will add some nodes to our graph\n",
        "# We can add a list od nodes with method add_nodes_from():\n",
        "\n",
        "grapha = [\"U1\", \"U2\", \"U3\", \"U4\", \"U5\", \"U6\", \"U7\", \"U8\", \"U9\"]\n",
        "G_Altgeld.add_nodes_from(grapha)\n",
        "\n",
        "# Add Edges to our Graph: G can also be created or in creased by \n",
        "#   adding one edge at a time by the method add_edge()\n",
        "#   which has the 2 nodes of the edge as the 2 parameters\n",
        "# We can add a bunch of edges as a list of edges in the form 2 tuples.\n",
        "\n",
        "G_Altgeld.add_edges_from([('U1','U2'), \n",
        "                          ('U1','U3'), \n",
        "                          ('U1','U6'), \n",
        "                          ('U1','U8'), \n",
        "                          ('U2','U1'),\n",
        "                          ('U2','U4'), \n",
        "                          ('U3','U2'), \n",
        "                          ('U3','U4'),\n",
        "                          ('U3','U5'), \n",
        "                          ('U4','U9'), \n",
        "                          ('U5','U6'), \n",
        "                          ('U6','U1'),\n",
        "                          ('U6','U7'),\n",
        "                          ('U6','U9'), \n",
        "                          ('U7','U2'),\n",
        "                          ('U7','U6'),\n",
        "                          ('U7','U8'), \n",
        "                          ('U8','U4'), \n",
        "                          ('U9','U2'),\n",
        "                          ('U9','U5'),\n",
        "                          ('U9','U8')])\n",
        "\n",
        "\n",
        "\n",
        "i = 0\n",
        "\n",
        "for name in grapha:\n",
        "  i = i + 1\n",
        "  print([\"%d: %s = %s\"% (i,name,str(len(G_Altgeld.out_edges(name))))])\n",
        "\n",
        "nx.draw_circular(G_Altgeld,node_color = '', with_labels = True)\n",
        "plt.show() # display"
      ],
      "execution_count": 0,
      "outputs": []
    },
    {
      "cell_type": "code",
      "metadata": {
        "id": "YWfGzolNwlZe",
        "colab_type": "code",
        "colab": {}
      },
      "source": [
        "# Now we call the following function to get the result of node ranking\n",
        "#  of node ranking using pagerrank\n",
        "\n",
        "nx.pagerank(G_Altgeld, max_iter = 100)\n",
        "# The most important node is the one with highest score"
      ],
      "execution_count": 0,
      "outputs": []
    },
    {
      "cell_type": "code",
      "metadata": {
        "id": "AwbmUl5KCYWk",
        "colab_type": "code",
        "colab": {
          "base_uri": "https://localhost:8080/",
          "height": 354
        },
        "outputId": "26509375-379c-4839-bbc8-a80a63a30d5c"
      },
      "source": [
        "graphb = [\"U10\", \"U11\"]\n",
        "G_Altgeld.add_nodes_from(graphb)\n",
        "\n",
        "G_Altgeld.remove_node('U2')\n",
        "G_Altgeld.remove_node('U9')\n",
        "\n",
        "G_Altgeld.add_edges_from([('U1','U10'), \n",
        "                          ('U3','U10'),\n",
        "                          ('U5','U11'), \n",
        "                          ('U7','U8'),\n",
        "                          ('U8','U4'), \n",
        "                          ('U8','U11'),\n",
        "                          ('U10','U1'),\n",
        "                          ('U11','U3')])\n",
        "\n",
        "j = 0\n",
        "\n",
        "for name in graphb:\n",
        "  j = j + 1\n",
        "  print([\"%d: %s = %s\"% (j,name,str(len(G_Altgeld.out_edges(name))))])\n",
        "\n",
        "nx.draw_circular(G_Altgeld,node_color = '', with_labels = True)\n",
        "plt.show() # display"
      ],
      "execution_count": 39,
      "outputs": [
        {
          "output_type": "stream",
          "text": [
            "['1: U10 = 1']\n",
            "['2: U11 = 1']\n"
          ],
          "name": "stdout"
        },
        {
          "output_type": "display_data",
          "data": {
            "image/png": "[encoded data removed]",
            "text/plain": [
              "<Figure size 432x288 with 1 Axes>"
            ]
          },
          "metadata": {
            "tags": []
          }
        }
      ]
    },
    {
      "cell_type": "code",
      "metadata": {
        "id": "tKtJIO41Canq",
        "colab_type": "code",
        "colab": {
          "base_uri": "https://localhost:8080/",
          "height": 173
        },
        "outputId": "a8fc4d4a-88b2-46dc-c757-8a4ed6bb96db"
      },
      "source": [
        "# Now we call the following function to get the result of node ranking\n",
        "#  of node ranking using pagerrank\n",
        "\n",
        "nx.pagerank(G_Altgeld, max_iter = 100)\n",
        "# The most important node is the one with highest score"
      ],
      "execution_count": 40,
      "outputs": [
        {
          "output_type": "execute_result",
          "data": {
            "text/plain": [
              "{'U1': 0.1695031000062115,\n",
              " 'U10': 0.10439295028525042,\n",
              " 'U11': 0.09747784000711399,\n",
              " 'U3': 0.14590728672859254,\n",
              " 'U4': 0.10976018274355545,\n",
              " 'U5': 0.06837381576853654,\n",
              " 'U6': 0.126437249327204,\n",
              " 'U7': 0.08076901074328423,\n",
              " 'U8': 0.09737856439025136}"
            ]
          },
          "metadata": {
            "tags": []
          },
          "execution_count": 40
        }
      ]
    }
  ]
}